{
  "nbformat": 4,
  "nbformat_minor": 0,
  "metadata": {
    "colab": {
      "provenance": [],
      "authorship_tag": "ABX9TyPFi9JJZY9F9KerJaWMQqhH",
      "include_colab_link": true
    },
    "kernelspec": {
      "name": "python3",
      "display_name": "Python 3"
    },
    "language_info": {
      "name": "python"
    }
  },
  "cells": [
    {
      "cell_type": "markdown",
      "metadata": {
        "id": "view-in-github",
        "colab_type": "text"
      },
      "source": [
        "<a href=\"https://colab.research.google.com/github/wolfmith/DailyPythonProblems/blob/main/geeksforgeeks_Vertical_Sum.ipynb\" target=\"_parent\"><img src=\"https://colab.research.google.com/assets/colab-badge.svg\" alt=\"Open In Colab\"/></a>"
      ]
    },
    {
      "cell_type": "markdown",
      "source": [
        "Given a binary tree having n nodes, find the vertical sum of the nodes that are in the same vertical line. Return all sums through different vertical lines starting from the left-most vertical line to the right-most vertical line.\n",
        "\n",
        "Example 1:\n",
        "\n",
        "Input:\n",
        "\n",
        "         1\n",
        "      /     \\\n",
        "     2       3\n",
        "    /  \\    /  \\\n",
        "    4   5  6   7\n",
        "Output:\n",
        "4 2 12 3 7\n",
        "\n",
        "Explanation:\n",
        "\n",
        "The tree has 5 vertical lines\n",
        "\n",
        "Line 1 has only one node 4 => vertical sum is 4.\n",
        "\n",
        "Line 2 has only one node 2 => vertical sum is 2.\n",
        "\n",
        "Line-3 has three nodes: 1,5,6 => vertical sum is 1+5+6 = 12.\n",
        "\n",
        "Line-4 has only one node 3 => vertical sum is 3.\n",
        "\n",
        "Line-5 has only one node 7 => vertical sum is 7.\n",
        "\n",
        "Example 2:\n",
        "\n",
        "Input:\n",
        "\n",
        "              1\n",
        "             /\n",
        "            2\n",
        "           /\n",
        "          3\n",
        "         /\n",
        "        4\n",
        "       /\n",
        "      6\n",
        "     /\n",
        "    7\n",
        "\n",
        "Output:\n",
        "7 6 5 4 3 2 1\n",
        "\n",
        "Explanation:\n",
        "There are seven vertical lines each having one node.\n",
        "\n",
        "Your Task:\n",
        "You don't need to take input. Just complete the function verticalSum() that takes root node of the tree as parameter and returns an array containing the vertical sum of tree from left to right.\n",
        "\n",
        "Expected Time Complexity: O(nlogn).\n",
        "\n",
        "Expected Auxiliary Space: O(n).\n",
        "\n",
        "Constraints:\n",
        "\n",
        "1<=n<=104\n",
        "\n",
        "1<= Node value <= 105"
      ],
      "metadata": {
        "id": "VNreNVbNk8Mm"
      }
    },
    {
      "cell_type": "code",
      "source": [
        "class Node:\n",
        "    def __init__(self,val):\n",
        "        self.data = val\n",
        "        self.left = None\n",
        "        self.right = None\n",
        "\n",
        "class TestVerticalSum:\n",
        "    def test_empty_tree(self):\n",
        "        root = None\n",
        "        sol = Solution()\n",
        "        assert sol.verticalSum(root) == []\n",
        "\n",
        "    def test_single_node(self):\n",
        "        root = Node(1)\n",
        "        sol = Solution()\n",
        "        assert sol.verticalSum(root) == [1]\n",
        "\n",
        "    def test_example_1(self):\n",
        "        root = Node(1)\n",
        "        root.left = Node(2)\n",
        "        root.right = Node(3)\n",
        "        root.left.left = Node(4)\n",
        "        root.left.right = Node(5)\n",
        "        root.right.left = Node(6)\n",
        "        root.right.right = Node(7)\n",
        "\n",
        "        sol = Solution()\n",
        "        assert sol.verticalSum(root) == [4, 2, 12, 3, 7]\n",
        "\n",
        "    def test_example_2(self):\n",
        "        root = Node(1)\n",
        "        root.left = Node(2)\n",
        "        root.left.left = Node(3)\n",
        "        root.left.left.left = Node(4)\n",
        "        root.left.left.left.left = Node(6)\n",
        "        root.left.left.left.left.left = Node(7)\n",
        "\n",
        "        sol = Solution()\n",
        "        assert sol.verticalSum(root) == [7, 6, 5, 4, 3, 2, 1]\n",
        "\n",
        "    def test_skewed_tree(self):\n",
        "        root = Node(1)\n",
        "        root.right = Node(2)\n",
        "        root.right.right = Node(3)\n",
        "        root.right.right.right = Node(4)\n",
        "        root.right.right.right.right = Node(5)\n",
        "\n",
        "        sol = Solution()\n",
        "        assert sol.verticalSum(root) == [15, 8, 3, 2, 1]\n",
        "\n",
        "if __name__ == '__main__':\n",
        "    test = TestVerticalSum()\n",
        "    test.test_empty_tree()\n",
        "    test.test_single_node()\n",
        "    test.test_example_1()\n",
        "    test.test_example_2()\n",
        "    test.test_skewed_tree()\n",
        "    print(\"All tests passed\")"
      ],
      "metadata": {
        "id": "Dv8FMLCXrwUq"
      },
      "execution_count": null,
      "outputs": []
    },
    {
      "cell_type": "code",
      "execution_count": 5,
      "metadata": {
        "colab": {
          "base_uri": "https://localhost:8080/"
        },
        "id": "t2ackEY1klj4",
        "outputId": "0aee7a88-633b-47b3-f731-6ac43636136c"
      },
      "outputs": [
        {
          "output_type": "execute_result",
          "data": {
            "text/plain": [
              "<__main__.TestVerticalSum at 0x7bdce6377b80>"
            ]
          },
          "metadata": {},
          "execution_count": 5
        }
      ],
      "source": [
        "from collections import defaultdict\n",
        "\n",
        "'''\n",
        "# Node Class:\n",
        "class Node:\n",
        "    def __init__(self,val):\n",
        "        self.data = val\n",
        "        self.left = None\n",
        "        self.right = None\n",
        "'''\n",
        "class Solution:\n",
        "    #Complete the function below\n",
        "    def verticalSum(self, root):\n",
        "        #:param root: root of the given tree.\n",
        "\n",
        "        #code here\n",
        "\n",
        "        # Base case: If the root is None, return an empty list\n",
        "        if not root:\n",
        "            return []\n",
        "\n",
        "        # Initialize a dictionary to store the vertical sum\n",
        "        verticalSums = defaultdict(int)\n",
        "\n",
        "        # Helper function to perform a DFS traversal and calculate the vertical sum\n",
        "        def dfs(node, column):\n",
        "            if node:\n",
        "                verticalSums[column] += node.data\n",
        "                dfs(node.left, column - 1)\n",
        "                dfs(node.right, column + 1)\n",
        "\n",
        "        # Call the dfs function with the root node and column 0\n",
        "        dfs(root, 0)\n",
        "\n",
        "        # Sort the dictionary by keys (column numbers)\n",
        "        sorted_sums = sorted(verticalSums.items(), key=lambda x: x[0])\n",
        "\n",
        "        # Extract the vertical sums and return them as a list\n",
        "        return [sum for _, sum in sorted_sums]\n",
        "\n",
        "TestVerticalSum()\n"
      ]
    },
    {
      "cell_type": "code",
      "source": [
        "    def verticalSum(self, root):\n",
        "        from collections import defaultdict\n",
        "\n",
        "        counts = defaultdict(int)\n",
        "\n",
        "        def dfs(node, vertical_line_id=0):\n",
        "            if node is None:\n",
        "                return\n",
        "            counts[vertical_line_id] += node.data\n",
        "            dfs(node.left, vertical_line_id - 1)\n",
        "            dfs(node.right, vertical_line_id + 1)\n",
        "\n",
        "        dfs(root)\n",
        "        offset = min(counts.keys())\n",
        "        return [counts[i] for i in range(offset, len(counts) + offset)]"
      ],
      "metadata": {
        "id": "8auApP8ruVX2"
      },
      "execution_count": null,
      "outputs": []
    }
  ]
}