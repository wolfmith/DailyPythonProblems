{
  "nbformat": 4,
  "nbformat_minor": 0,
  "metadata": {
    "colab": {
      "provenance": [],
      "authorship_tag": "ABX9TyMtLs99LPYnOPqw/gF9vk+7",
      "include_colab_link": true
    },
    "kernelspec": {
      "name": "python3",
      "display_name": "Python 3"
    },
    "language_info": {
      "name": "python"
    }
  },
  "cells": [
    {
      "cell_type": "markdown",
      "metadata": {
        "id": "view-in-github",
        "colab_type": "text"
      },
      "source": [
        "<a href=\"https://colab.research.google.com/github/wolfmith/DailyPythonProblems/blob/main/geeksforgeeks_Vertical_Sum.ipynb\" target=\"_parent\"><img src=\"https://colab.research.google.com/assets/colab-badge.svg\" alt=\"Open In Colab\"/></a>"
      ]
    },
    {
      "cell_type": "markdown",
      "source": [
        "Given a binary tree having n nodes, find the vertical sum of the nodes that are in the same vertical line. Return all sums through different vertical lines starting from the left-most vertical line to the right-most vertical line.\n",
        "\n",
        "Example 1:\n",
        "\n",
        "Input:\n",
        "\n",
        "         1\n",
        "      /     \\\n",
        "     2       3\n",
        "    /  \\    /  \\\n",
        "    4   5  6   7\n",
        "Output:\n",
        "4 2 12 3 7\n",
        "\n",
        "Explanation:\n",
        "\n",
        "The tree has 5 vertical lines\n",
        "\n",
        "Line 1 has only one node 4 => vertical sum is 4.\n",
        "\n",
        "Line 2 has only one node 2 => vertical sum is 2.\n",
        "\n",
        "Line-3 has three nodes: 1,5,6 => vertical sum is 1+5+6 = 12.\n",
        "\n",
        "Line-4 has only one node 3 => vertical sum is 3.\n",
        "\n",
        "Line-5 has only one node 7 => vertical sum is 7.\n",
        "\n",
        "Example 2:\n",
        "\n",
        "Input:\n",
        "\n",
        "              1\n",
        "             /\n",
        "            2\n",
        "           /\n",
        "          3\n",
        "         /\n",
        "        4\n",
        "       /\n",
        "      6\n",
        "     /\n",
        "    7\n",
        "\n",
        "Output:\n",
        "7 6 5 4 3 2 1\n",
        "\n",
        "Explanation:\n",
        "There are seven vertical lines each having one node.\n",
        "\n",
        "Your Task:\n",
        "You don't need to take input. Just complete the function verticalSum() that takes root node of the tree as parameter and returns an array containing the vertical sum of tree from left to right.\n",
        "\n",
        "Expected Time Complexity: O(nlogn).\n",
        "\n",
        "Expected Auxiliary Space: O(n).\n",
        "\n",
        "Constraints:\n",
        "\n",
        "1<=n<=104\n",
        "\n",
        "1<= Node value <= 105"
      ],
      "metadata": {
        "id": "VNreNVbNk8Mm"
      }
    },
    {
      "cell_type": "code",
      "execution_count": null,
      "metadata": {
        "id": "t2ackEY1klj4"
      },
      "outputs": [],
      "source": [
        "from collections import deque\n",
        "\n",
        "'''\n",
        "# Node Class:\n",
        "class Node:\n",
        "    def __init__(self,val):\n",
        "        self.data = val\n",
        "        self.left = None\n",
        "        self.right = None\n",
        "'''\n",
        "class Solution:\n",
        "    #Complete the function below\n",
        "    def verticalSum(self, root):\n",
        "        #:param root: root of the given tree.\n",
        "\n",
        "        #code here\n",
        "        queue = deque([(root, 0)])  # (node, distance)\n",
        "        result = []\n",
        "        while queue:\n",
        "\n",
        "\n"
      ]
    }
  ]
}