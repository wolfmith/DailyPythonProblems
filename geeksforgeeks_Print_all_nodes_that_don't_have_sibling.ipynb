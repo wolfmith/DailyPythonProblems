{
  "nbformat": 4,
  "nbformat_minor": 0,
  "metadata": {
    "colab": {
      "provenance": [],
      "authorship_tag": "ABX9TyN0KCh3OapXjcIhwCRvDqDo",
      "include_colab_link": true
    },
    "kernelspec": {
      "name": "python3",
      "display_name": "Python 3"
    },
    "language_info": {
      "name": "python"
    }
  },
  "cells": [
    {
      "cell_type": "markdown",
      "metadata": {
        "id": "view-in-github",
        "colab_type": "text"
      },
      "source": [
        "<a href=\"https://colab.research.google.com/github/wolfmith/DailyPythonProblems/blob/main/geeksforgeeks_Print_all_nodes_that_don't_have_sibling.ipynb\" target=\"_parent\"><img src=\"https://colab.research.google.com/assets/colab-badge.svg\" alt=\"Open In Colab\"/></a>"
      ]
    },
    {
      "cell_type": "markdown",
      "source": [
        "Given a Binary Tree of n nodes, find all the nodes that don't have any siblings. You need to return a list of integers containing all the nodes that don't have a sibling in sorted order (Increasing).\n",
        "\n",
        "Two nodes are said to be siblings if they are present at the same level, and their parents are the same.\n",
        "\n",
        "Note: The root node can not have a sibling so it cannot be included in our answer.\n",
        "\n",
        "Example 1:\n",
        "\n",
        "Input :\n",
        "\n",
        "       37\n",
        "      /   \n",
        "    20\n",
        "    /     \n",
        "  113\n",
        "\n",
        "Output:\n",
        "20 113\n",
        "Explanation:\n",
        "Nodes 20 and 113 dont have any siblings.\n",
        "\n",
        "Example 2:\n",
        "\n",
        "Input :\n",
        "\n",
        "       1\n",
        "      / \\\n",
        "     2   3\n",
        "\n",
        "Output:\n",
        "-1\n",
        "\n",
        "Explanation:\n",
        "Every node has a sibling.\n",
        "\n",
        "Your Task:  \n",
        "You don't need to read input or print anything. Complete the function noSibling() which takes the root of the tree as input parameter and returns a list of integers containing all the nodes that don't have a sibling in sorted order. If all nodes have a sibling, then the returning list should contain only one element -1.\n",
        "\n",
        "Expected Time Complexity: O(nlogn)\n",
        "\n",
        "Expected Auxiliary Space: O(Height of the tree)\n",
        "\n",
        "Constraints:\n",
        "1 ≤ n ≤ 104"
      ],
      "metadata": {
        "id": "HsYmDte-PwuR"
      }
    },
    {
      "cell_type": "code",
      "execution_count": null,
      "metadata": {
        "id": "TTGjqoorPn-a"
      },
      "outputs": [],
      "source": [
        "'''\n",
        "class Node:\n",
        "    def __init__(self, val):\n",
        "        self.right = None\n",
        "        self.data = val\n",
        "        self.left = None\n",
        "'''\n",
        "class Solution:\n",
        "    def noSibling(self, root):\n",
        "        if not root:\n",
        "            return []\n",
        "\n",
        "        no_sibling_nodes = []\n",
        "\n",
        "        def dfs(node, parent):\n",
        "            if not node:\n",
        "                return\n",
        "\n",
        "            if not parent:\n",
        "                # Root node cannot be considered as it cannot have a sibling\n",
        "                pass\n",
        "            elif not (parent.left and parent.right):\n",
        "                # The node has no sibling\n",
        "                no_sibling_nodes.append(node.data)\n",
        "            else:\n",
        "                # The node has a sibling\n",
        "                pass\n",
        "\n",
        "            dfs(node.left, node)\n",
        "            dfs(node.right, node)\n",
        "\n",
        "        dfs(root, None)\n",
        "\n",
        "        if not no_sibling_nodes:\n",
        "            return [-1]\n",
        "\n",
        "        no_sibling_nodes.sort()\n",
        "        return no_sibling_nodes\n",
        "\n",
        ""
      ]
    },
    {
      "cell_type": "code",
      "source": [
        "class TreeNode:\n",
        "    def __init__(self, x):\n",
        "        self.val = x\n",
        "        self.left = None\n",
        "        self.right = None\n",
        "\n",
        "def noSibling(root):\n",
        "    if not root:\n",
        "        return [-1]\n",
        "\n",
        "    result = []\n",
        "\n",
        "    def dfs(node):\n",
        "        if not node:\n",
        "            return\n",
        "        # Check if the node has only one child and add that child to result\n",
        "        if node.left and not node.right:\n",
        "            result.append(node.left.val)\n",
        "        elif node.right and not node.left:\n",
        "            result.append(node.right.val)\n",
        "\n",
        "        # Continue DFS on both children\n",
        "        dfs(node.left)\n",
        "        dfs(node.right)\n",
        "\n",
        "    # Start DFS from root\n",
        "    dfs(root)\n",
        "\n",
        "    # Sort the result, or return [-1] if result is empty\n",
        "    return sorted(result) if result else [-1]\n",
        "\n",
        "# Testing the implementation\n",
        "# Example 1\n",
        "root1 = TreeNode(37)\n",
        "root1.left = TreeNode(20)\n",
        "root1.left.left = TreeNode(113)\n",
        "\n",
        "# Example 2\n",
        "root2 = TreeNode(1)\n",
        "root2.left = TreeNode(2)\n",
        "root2.right = TreeNode(3)\n",
        "\n",
        "# Example 3\n",
        "root3 = TreeNode(10)\n",
        "root3.left = TreeNode(20)\n",
        "root3.right = TreeNode(30)\n",
        "root3.left.left = TreeNode(40)\n",
        "root3.right.right = TreeNode(50)\n",
        "\n",
        "# We will print results of test cases after finalizing the function\n",
        "print(noSibling(root1))  # Output should be [20, 113]\n",
        "print(noSibling(root2))  # Output should be [-1]\n",
        "print(noSibling(root3))  # Output should be [40, 50]\n"
      ],
      "metadata": {
        "colab": {
          "base_uri": "https://localhost:8080/"
        },
        "id": "Yf33UxF1t9cJ",
        "outputId": "0124501c-317c-4abb-857d-1333bd362229"
      },
      "execution_count": 1,
      "outputs": [
        {
          "output_type": "stream",
          "name": "stdout",
          "text": [
            "[20, 113]\n",
            "[-1]\n",
            "[40, 50]\n"
          ]
        }
      ]
    },
    {
      "cell_type": "code",
      "source": [
        "def noSibling(self, root):\n",
        "    ans = []\n",
        "\n",
        "        def solve(root, ans):\n",
        "            if root == None:\n",
        "                return\n",
        "            if root.left == None and root.right != None:\n",
        "                ans.append(root.right.data)\n",
        "                solve(root.right, ans)\n",
        "            elif root.left != None and root.right == None:\n",
        "                ans.append(root.left.data)\n",
        "                solve(root.left, ans)\n",
        "            else:\n",
        "                solve(root.left, ans)\n",
        "                solve(root.right, ans)\n",
        "\n",
        "        solve(root, ans)\n",
        "        if len(ans) == 0:\n",
        "            return [-1]\n",
        "        else:"
      ],
      "metadata": {
        "id": "gZ11VQ00umYP"
      },
      "execution_count": null,
      "outputs": []
    }
  ]
}