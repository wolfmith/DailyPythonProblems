{
  "nbformat": 4,
  "nbformat_minor": 0,
  "metadata": {
    "colab": {
      "provenance": [],
      "authorship_tag": "ABX9TyNDLJnpZ27q5pDkP7jwuCLL",
      "include_colab_link": true
    },
    "kernelspec": {
      "name": "python3",
      "display_name": "Python 3"
    },
    "language_info": {
      "name": "python"
    }
  },
  "cells": [
    {
      "cell_type": "markdown",
      "metadata": {
        "id": "view-in-github",
        "colab_type": "text"
      },
      "source": [
        "<a href=\"https://colab.research.google.com/github/wolfmith/DailyPythonProblems/blob/main/geeksforgeeks_Print_all_nodes_that_don't_have_sibling.ipynb\" target=\"_parent\"><img src=\"https://colab.research.google.com/assets/colab-badge.svg\" alt=\"Open In Colab\"/></a>"
      ]
    },
    {
      "cell_type": "markdown",
      "source": [
        "Given a Binary Tree of n nodes, find all the nodes that don't have any siblings. You need to return a list of integers containing all the nodes that don't have a sibling in sorted order (Increasing).\n",
        "\n",
        "Two nodes are said to be siblings if they are present at the same level, and their parents are the same.\n",
        "\n",
        "Note: The root node can not have a sibling so it cannot be included in our answer.\n",
        "\n",
        "Example 1:\n",
        "\n",
        "Input :\n",
        "\n",
        "       37\n",
        "      /   \n",
        "    20\n",
        "    /     \n",
        "  113\n",
        "\n",
        "Output:\n",
        "20 113\n",
        "Explanation:\n",
        "Nodes 20 and 113 dont have any siblings.\n",
        "\n",
        "Example 2:\n",
        "\n",
        "Input :\n",
        "       1\n",
        "      / \\\n",
        "     2   3\n",
        "\n",
        "Output:\n",
        "-1\n",
        "Explanation:\n",
        "Every node has a sibling.\n",
        "Your Task:  \n",
        "You don't need to read input or print anything. Complete the function noSibling() which takes the root of the tree as input parameter and returns a list of integers containing all the nodes that don't have a sibling in sorted order. If all nodes have a sibling, then the returning list should contain only one element -1.\n",
        "\n",
        "Expected Time Complexity: O(nlogn)\n",
        "Expected Auxiliary Space: O(Height of the tree)\n",
        "\n",
        "Constraints:\n",
        "1 ≤ n ≤ 104"
      ],
      "metadata": {
        "id": "HsYmDte-PwuR"
      }
    },
    {
      "cell_type": "code",
      "execution_count": null,
      "metadata": {
        "id": "TTGjqoorPn-a"
      },
      "outputs": [],
      "source": []
    }
  ]
}