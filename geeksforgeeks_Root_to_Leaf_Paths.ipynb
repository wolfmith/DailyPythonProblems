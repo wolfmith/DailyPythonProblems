{
  "nbformat": 4,
  "nbformat_minor": 0,
  "metadata": {
    "colab": {
      "provenance": [],
      "authorship_tag": "ABX9TyN11HVKpYfW4JyNWZ/JRCnp",
      "include_colab_link": true
    },
    "kernelspec": {
      "name": "python3",
      "display_name": "Python 3"
    },
    "language_info": {
      "name": "python"
    }
  },
  "cells": [
    {
      "cell_type": "markdown",
      "metadata": {
        "id": "view-in-github",
        "colab_type": "text"
      },
      "source": [
        "<a href=\"https://colab.research.google.com/github/wolfmith/DailyPythonProblems/blob/main/geeksforgeeks_Root_to_Leaf_Paths.ipynb\" target=\"_parent\"><img src=\"https://colab.research.google.com/assets/colab-badge.svg\" alt=\"Open In Colab\"/></a>"
      ]
    },
    {
      "cell_type": "markdown",
      "source": [
        "## Problem Summary: Finding All Paths from Root to Leaves in a Binary Tree\n",
        "\n",
        "**Objective:** Develop a Python function to find all possible paths from the root node to each of the leaf nodes in a given binary tree.\n",
        "\n",
        "### Description:\n",
        "- A **binary tree** is defined such that each node contains an integer value and may have a left and/or right child.\n",
        "- A **path** is defined as a sequence of node values starting at the root and ending at a leaf node, where each node in the sequence is directly connected in the tree.\n",
        "- The function should return these paths as lists of integers, each list representing one root-to-leaf path.\n",
        "\n",
        "### Input:\n",
        "- The root node of a binary tree.\n",
        "\n",
        "### Output:\n",
        "- A list of strings, where each string represents a path from the root to a leaf, formatted as node values separated by spaces.\n",
        "\n",
        "### Examples:\n",
        "1. Input:\n",
        "\n",
        "          1\n",
        "         / \\\\\n",
        "        2   3\n",
        "\n",
        "Output: [\"1 2\", \"1 3\"]\n",
        "\n",
        "2. Input:\n",
        "\n",
        "            10\n",
        "          /   \\\\\n",
        "          20    30\n",
        "        /  \\\\\n",
        "        40   60\n",
        "\n",
        "Output: [\"10 20 40\", \"10 20 60\", \"10 30\"]\n",
        "\n",
        "### Solution Approach:\n",
        "- Use a **Depth First Search (DFS)** traversal method to explore each path from the root down to the leaves.\n",
        "- During the traversal, accumulate the node values in a path.\n",
        "- Upon reaching a leaf node, record the path.\n",
        "- Utilize **backtracking** to explore all possible paths by removing the last node from the current path before backtracking to the parent node.\n",
        "\n",
        "### Complexity:\n",
        "- **Time Complexity:** O(n), where n is the number of nodes in the tree, as each node is visited once.\n",
        "- **Space Complexity:** O(h), where h is the height of the tree, representing the maximum recursion depth in the worst case (i.e., the size of the call stack).\n",
        "\n",
        "This function provides an efficient way to capture all root-to-leaf paths in a binary tree, which can be particularly useful for tasks such as tree data serialization, paths analysis, and more.\n"
      ],
      "metadata": {
        "id": "n4guepbd3dbh"
      }
    },
    {
      "cell_type": "code",
      "execution_count": 3,
      "metadata": {
        "colab": {
          "base_uri": "https://localhost:8080/"
        },
        "id": "KcVxiFK82QJ5",
        "outputId": "4918201f-4f23-4718-f410-6c8eed7e4f79"
      },
      "outputs": [
        {
          "output_type": "stream",
          "name": "stdout",
          "text": [
            "['12', '13']\n",
            "['102040', '102060', '1030']\n"
          ]
        }
      ],
      "source": [
        "\n",
        "from typing import Optional\n",
        "from collections import deque\n",
        "\n",
        "from typing import List\n",
        "\n",
        "\"\"\"\n",
        "\n",
        "definition of binary tree node.\n",
        "class Node:\n",
        "    def _init_(self,val):\n",
        "        self.data = val\n",
        "        self.left = None\n",
        "        self.right = None\n",
        "\"\"\"\n",
        "\n",
        "class Solution:\n",
        "    def Paths(self, root : Optional['Node']) -> List[List[int]]:\n",
        "        # code here\n",
        "        if not root:\n",
        "            return []\n",
        "\n",
        "        paths = []\n",
        "        stack = [(root, [root.data])]\n",
        "\n",
        "        while stack:\n",
        "            node, path = stack.pop()\n",
        "\n",
        "            if not node.left and not node.right:\n",
        "                paths.append(path)\n",
        "\n",
        "            if node.right:\n",
        "                stack.append((node.right, path + [node.right.data]))\n",
        "\n",
        "            if node.left:\n",
        "                stack.append((node.left, path + [node.left.data]))\n",
        "\n",
        "        return paths\n"
      ]
    }
  ]
}