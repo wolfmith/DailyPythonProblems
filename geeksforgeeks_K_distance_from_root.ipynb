{
  "nbformat": 4,
  "nbformat_minor": 0,
  "metadata": {
    "colab": {
      "provenance": [],
      "authorship_tag": "ABX9TyOjpvo1sZf+sj2idYJaZSjD",
      "include_colab_link": true
    },
    "kernelspec": {
      "name": "python3",
      "display_name": "Python 3"
    },
    "language_info": {
      "name": "python"
    }
  },
  "cells": [
    {
      "cell_type": "markdown",
      "metadata": {
        "id": "view-in-github",
        "colab_type": "text"
      },
      "source": [
        "<a href=\"https://colab.research.google.com/github/wolfmith/DailyPythonProblems/blob/main/geeksforgeeks_K_distance_from_root.ipynb\" target=\"_parent\"><img src=\"https://colab.research.google.com/assets/colab-badge.svg\" alt=\"Open In Colab\"/></a>"
      ]
    },
    {
      "cell_type": "markdown",
      "source": [
        "K distance from root\n",
        "Easy\n",
        "Given a binary tree having n nodes and an integer k. Print all nodes that are at distance k from the root (root is considered at distance 0 from itself). Nodes should be printed from left to right.\n",
        "\n",
        "Example 1:\n",
        "\n",
        "Input:\n",
        "k = 0\n",
        "      1\n",
        "    /   \\\n",
        "   3     2\n",
        "Output:\n",
        "1\n",
        "Explanation:\n",
        "1 is the only node which is 0 distance from the root 1.\n",
        "Example 2:\n",
        "\n",
        "Input:\n",
        "k = 3\n",
        "        1\n",
        "       /\n",
        "      2\n",
        "       \\\n",
        "        1\n",
        "      /  \\\n",
        "     5    3\n",
        "Output:\n",
        "5 3\n",
        "Explanation:  \n",
        "5 and 3 are the nodes which are at distance 3 from the root 3.\n",
        "Here, returning 3 5 will be incorrect.\n",
        "Your Task:\n",
        "You don't have to take input. Complete the function Kdistance() that accepts root node and k as parameters and returns the value of the nodes that are at a distance k from the root.\n",
        "\n",
        "Expected Time Complexity: O(n).\n",
        "Expected Auxiliary Space: O(Height of the Tree).\n",
        "\n",
        "Constraints:\n",
        "1 <= n <= 104\n",
        "0 <= k <= 30"
      ],
      "metadata": {
        "id": "JNaVIGW1LalM"
      }
    },
    {
      "cell_type": "code",
      "execution_count": null,
      "metadata": {
        "id": "oRrS69PthyIq"
      },
      "outputs": [],
      "source": [
        "#User function Template for python3\n",
        "from collections import deque\n",
        "\n",
        "\"\"\"\n",
        "class Node:\n",
        "    def _init_(self,val):\n",
        "        self.data = val\n",
        "        self.left = None\n",
        "        self.right = None\n",
        "\"\"\"\n",
        "class Solution:\n",
        "    def KDistance(self,root,k):\n",
        "        '''\n",
        "        :param root: root of given tree.\n",
        "        :param k: distance k from root\n",
        "        :return: list of all nodes that are at distance k from root.\n",
        "        '''\n",
        "        # code here\n",
        "\n",
        "        if root is None or k < 0:\n",
        "            return []\n",
        "\n",
        "        queue = deque([(root, 0)])  # (node, distance)\n",
        "        result = []\n",
        "\n",
        "        while queue:\n",
        "            node, distance = queue.popleft()\n",
        "\n",
        "            if distance == k:\n",
        "                result.append(node.data)\n",
        "            else:\n",
        "                if node.left:\n",
        "                    queue.append((node.left, distance + 1))\n",
        "                if node.right:\n",
        "                    queue.append((node.right, distance + 1))\n",
        "\n",
        "        return resultAind"
      ]
    },
    {
      "cell_type": "markdown",
      "source": [
        "Hint: Consider if there is a way to optimize the code to avoid unnecessary operations or data processing while traversing the tree. Think about how you can improve the efficiency of checking the distance of each node from the root.\n",
        "\n"
      ],
      "metadata": {
        "id": "BS5VCFYCLAVm"
      }
    },
    {
      "cell_type": "code",
      "source": [
        "class Solution:\n",
        "    def KDistance(self, root, k):\n",
        "        result = []\n",
        "        self.getKDistanceNodes(root, k, result)\n",
        "        return result\n",
        "\n",
        "    def getKDistanceNodes(self, root, k, result):\n",
        "        if root is None:\n",
        "            return\n",
        "\n",
        "        if k == 0:\n",
        "            result.append(root.data)\n",
        "            return\n",
        "\n",
        "        self.getKDistanceNodes(root.left, k - 1, result)\n",
        "        self.getKDistanceNodes(root.right, k - 1, result)"
      ],
      "metadata": {
        "id": "19_VYEJ-LBKP"
      },
      "execution_count": null,
      "outputs": []
    }
  ]
}